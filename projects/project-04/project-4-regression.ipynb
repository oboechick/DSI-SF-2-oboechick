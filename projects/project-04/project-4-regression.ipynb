{
 "cells": [
  {
   "cell_type": "markdown",
   "metadata": {},
   "source": [
    "<img src=\"http://imgur.com/1ZcRyrc.png\" style=\"float: left; margin: 15px; height: 80px\">\n",
    "\n",
    "# Project 4\n",
    "\n",
    "## San Francisco Data\n",
    "\n",
    "---\n",
    "\n",
    "[San Francisco provides a wealth of data on the city to the public.](https://data.sfgov.org/) Project 4 is all about exploring this data and modeling interesting relationships with regression.\n",
    "\n",
    "Project 4 is also much more open-ended than the previous projects. You are more responsible for finding things about the data that interest you, coming up with your own hypothesis about it, and reporting on the analysis you carry out. That being said, there are still specific requirements and restrictions on the type of models you will be constructing.\n",
    "\n",
    "---\n",
    "\n",
    "## Notes on the data\n",
    "\n",
    "We have gone through the above website and pulled out a variety of different datasets that we think are particularly interesting. Some of the datasets are from external sources as well, but all are related to San Francisco. A high level overview of data folders is provided after the project requirements section.\n",
    "\n",
    "**There is a lot of different data. You are _NOT_ expected to explore all of it or include all of it in analyses.** The point of the project is to focus on aspects of San Francisco that are particularly interesting to you from a modeling point of view. \n",
    "\n",
    "**The uncompressed data is a large filesize.** Even the compressed data is pretty large. The data is compressed into a .7z format which has one of the smallest filesizes available. You will likely need a 3rd party app to extract it. \n",
    "\n",
    "### Recommended Utilities for .7z\n",
    "- For OSX [Keka](http://www.kekaosx.com/en/) or [The Unarchiver](http://wakaba.c3.cx/s/apps/unarchiver.html). \n",
    "- For Windows [7-zip](http://www.7-zip.org/) is the standard. \n",
    "- For Linux try the `p7zip` utility.  `sudo apt-get install p7zip`.\n",
    "\n",
    "---\n",
    "\n",
    "## Project requirements\n",
    "\n",
    "**You will be performing 4 different sections of analysis on the San Francisco data.**\n",
    "\n",
    "**Models must be regression. This means that your target variable needs to be numeric/continuous**\n",
    "\n",
    "Do not perform classification models – this will be the topic of week 4.\n"
   ]
  },
  {
   "cell_type": "markdown",
   "metadata": {},
   "source": [
    "<img src=\"http://imgur.com/l5NasQj.png\" style=\"float: left; margin: 25px 15px 0px 0px; height: 25px\">\n",
    "\n",
    "### 1. Choose a dataset or datasets of interest to you and perform EDA\n",
    "\n",
    "---\n",
    "\n",
    "1. Explain what the data is. This may include multiple csv files. Some of this data has hard to understand codes representing the variables. Nearly all data is pulled from https://data.sfgov.org/ so this is a very good resource for determining what the data is.\n",
    "- Clean the data.\n",
    "- Develop and state clearly a hypothesis about the data that you would want to test.\n",
    "- Create some initial visualizations on the portions of the data relevant to your hypothesis."
   ]
  },
  {
   "cell_type": "code",
   "execution_count": 1,
   "metadata": {
    "collapsed": true
   },
   "outputs": [],
   "source": [
    "import matplotlib.pyplot as plt\n",
    "import numpy as np\n",
    "import pandas as pd\n",
    "\n",
    "import seaborn as sns\n",
    "\n",
    "\n",
    "%matplotlib inline\n",
    "%config InlineBackend.figure_format = 'retina'\n",
    "\n",
    "from sklearn.neighbors import KNeighborsClassifier\n",
    "\n"
   ]
  },
  {
   "cell_type": "markdown",
   "metadata": {},
   "source": [
    "## School Locations in SF\n",
    "\n",
    "This data shows the location of all of the primary and secondary schools in San Francisco. It includes the district/state/county codes. It also has the mailing address and GPS Location."
   ]
  },
  {
   "cell_type": "code",
   "execution_count": 8,
   "metadata": {
    "collapsed": false
   },
   "outputs": [
    {
     "data": {
      "text/html": [
       "<div>\n",
       "<table border=\"1\" class=\"dataframe\">\n",
       "  <thead>\n",
       "    <tr style=\"text-align: right;\">\n",
       "      <th></th>\n",
       "      <th>campus_name</th>\n",
       "      <th>ccsf_entity</th>\n",
       "      <th>lower_grade</th>\n",
       "      <th>upper_grade</th>\n",
       "      <th>grade_range</th>\n",
       "      <th>category</th>\n",
       "      <th>map_label</th>\n",
       "      <th>lower_age</th>\n",
       "      <th>upper_age</th>\n",
       "      <th>general_type</th>\n",
       "      <th>cds_code</th>\n",
       "      <th>campus_address</th>\n",
       "      <th>supervisor_district</th>\n",
       "      <th>county_fips</th>\n",
       "      <th>county_name</th>\n",
       "      <th>location_1</th>\n",
       "      <th>school_type</th>\n",
       "    </tr>\n",
       "  </thead>\n",
       "  <tbody>\n",
       "    <tr>\n",
       "      <th>0</th>\n",
       "      <td>Alamo Elementary School</td>\n",
       "      <td>SFUSD</td>\n",
       "      <td>0</td>\n",
       "      <td>5</td>\n",
       "      <td>K-5</td>\n",
       "      <td>USD Grades K-5</td>\n",
       "      <td>PS001</td>\n",
       "      <td>5</td>\n",
       "      <td>10</td>\n",
       "      <td>PS</td>\n",
       "      <td>38684786040695</td>\n",
       "      <td>250 23RD AVE, San Francisco, CA 94121</td>\n",
       "      <td>1</td>\n",
       "      <td>6075</td>\n",
       "      <td>SAN FRANCISCO</td>\n",
       "      <td>CA\\n(37.7830048, -122.4822998)</td>\n",
       "      <td>1</td>\n",
       "    </tr>\n",
       "    <tr>\n",
       "      <th>1</th>\n",
       "      <td>Alvarado Elementary School</td>\n",
       "      <td>SFUSD</td>\n",
       "      <td>0</td>\n",
       "      <td>5</td>\n",
       "      <td>K-5</td>\n",
       "      <td>USD Grades K-5</td>\n",
       "      <td>PS002</td>\n",
       "      <td>5</td>\n",
       "      <td>10</td>\n",
       "      <td>PS</td>\n",
       "      <td>38684786040703</td>\n",
       "      <td>625 DOUGLASS ST, San Francisco, CA 94114</td>\n",
       "      <td>8</td>\n",
       "      <td>6075</td>\n",
       "      <td>SAN FRANCISCO</td>\n",
       "      <td>CA\\n(37.7536812, -122.4381943)</td>\n",
       "      <td>1</td>\n",
       "    </tr>\n",
       "    <tr>\n",
       "      <th>2</th>\n",
       "      <td>Aptos Middle School</td>\n",
       "      <td>SFUSD</td>\n",
       "      <td>6</td>\n",
       "      <td>8</td>\n",
       "      <td>6-8</td>\n",
       "      <td>USD Grades 6-8</td>\n",
       "      <td>PS003</td>\n",
       "      <td>11</td>\n",
       "      <td>13</td>\n",
       "      <td>PS</td>\n",
       "      <td>38684786062020</td>\n",
       "      <td>105 APTOS AVE, San Francisco, CA 94127</td>\n",
       "      <td>7</td>\n",
       "      <td>6075</td>\n",
       "      <td>SAN FRANCISCO</td>\n",
       "      <td>CA\\n(37.7296715, -122.4657822)</td>\n",
       "      <td>1</td>\n",
       "    </tr>\n",
       "  </tbody>\n",
       "</table>\n",
       "</div>"
      ],
      "text/plain": [
       "                  campus_name ccsf_entity  lower_grade  upper_grade  \\\n",
       "0     Alamo Elementary School       SFUSD            0            5   \n",
       "1  Alvarado Elementary School       SFUSD            0            5   \n",
       "2         Aptos Middle School       SFUSD            6            8   \n",
       "\n",
       "  grade_range        category map_label  lower_age  upper_age general_type  \\\n",
       "0         K-5  USD Grades K-5     PS001          5         10           PS   \n",
       "1         K-5  USD Grades K-5     PS002          5         10           PS   \n",
       "2         6-8  USD Grades 6-8     PS003         11         13           PS   \n",
       "\n",
       "         cds_code                            campus_address  \\\n",
       "0  38684786040695     250 23RD AVE, San Francisco, CA 94121   \n",
       "1  38684786040703  625 DOUGLASS ST, San Francisco, CA 94114   \n",
       "2  38684786062020    105 APTOS AVE, San Francisco, CA 94127   \n",
       "\n",
       "   supervisor_district  county_fips    county_name  \\\n",
       "0                    1         6075  SAN FRANCISCO   \n",
       "1                    8         6075  SAN FRANCISCO   \n",
       "2                    7         6075  SAN FRANCISCO   \n",
       "\n",
       "                       location_1  school_type  \n",
       "0  CA\\n(37.7830048, -122.4822998)            1  \n",
       "1  CA\\n(37.7536812, -122.4381943)            1  \n",
       "2  CA\\n(37.7296715, -122.4657822)            1  "
      ]
     },
     "execution_count": 8,
     "metadata": {},
     "output_type": "execute_result"
    }
   ],
   "source": [
    "school = pd.read_csv('/Users/nichollejames/Desktop/DSI-SF-2-oboechick/projects/project-04/Map_of_Schools.csv')\n",
    "school.columns = [col.replace(\" \", \"_\").replace('cds_code', 'county_district_school_code').lower() for col in school.columns]\n",
    "\n",
    "school['school_type'] = school['general_type'].map(lambda x: \n",
    "                                                   1 if x == 'PS' \n",
    "                                                   else 2 if x =='IND' \n",
    "                                                   else 3 if x =='CDC' \n",
    "                                                   else 4 if x == 'CC' \n",
    "                                                   else 0)\n",
    "\n",
    "school.head(3)"
   ]
  },
  {
   "cell_type": "code",
   "execution_count": 6,
   "metadata": {
    "collapsed": false
   },
   "outputs": [],
   "source": [
    "cds_code_mask1 = school['county_district_school_code'] == 'SFCCD_unknown' \n",
    "cds_code_mask2 = school['county_district_school_code'] == 'NOT_FOUND_ADDR' \n",
    "cds_code_mask3 = school['county_district_school_code'] == 'EXP 2015-06-15'\n",
    "cds_code_mask4 = school['county_district_school_code'] ==  'NOT_FOUND'"
   ]
  },
  {
   "cell_type": "markdown",
   "metadata": {},
   "source": [
    "## Transit Stops data\n",
    "\n",
    "This data has where the stops for transit are by id, cross street, longitude, and latitude. There are also three other columns that seen to be empty. "
   ]
  },
  {
   "cell_type": "code",
   "execution_count": 10,
   "metadata": {
    "collapsed": false,
    "scrolled": true
   },
   "outputs": [
    {
     "data": {
      "text/html": [
       "<div>\n",
       "<table border=\"1\" class=\"dataframe\">\n",
       "  <thead>\n",
       "    <tr style=\"text-align: right;\">\n",
       "      <th></th>\n",
       "      <th>stop_id</th>\n",
       "      <th>stop_name</th>\n",
       "      <th>stop_desc</th>\n",
       "      <th>stop_lat</th>\n",
       "      <th>stop_lon</th>\n",
       "      <th>zone_id</th>\n",
       "      <th>stop_url</th>\n",
       "    </tr>\n",
       "  </thead>\n",
       "  <tbody>\n",
       "    <tr>\n",
       "      <th>0</th>\n",
       "      <td>98</td>\n",
       "      <td>2ND ST &amp; MARKET ST</td>\n",
       "      <td></td>\n",
       "      <td>37.789255</td>\n",
       "      <td>-122.401225</td>\n",
       "      <td></td>\n",
       "      <td></td>\n",
       "    </tr>\n",
       "    <tr>\n",
       "      <th>1</th>\n",
       "      <td>100</td>\n",
       "      <td>STEUART ST &amp; FRANCISCO ST</td>\n",
       "      <td></td>\n",
       "      <td>37.794463</td>\n",
       "      <td>-122.394607</td>\n",
       "      <td></td>\n",
       "      <td></td>\n",
       "    </tr>\n",
       "    <tr>\n",
       "      <th>2</th>\n",
       "      <td>202</td>\n",
       "      <td>COLUMBUS AVE &amp; Pacific Ave</td>\n",
       "      <td></td>\n",
       "      <td>37.797055</td>\n",
       "      <td>-122.405669</td>\n",
       "      <td></td>\n",
       "      <td></td>\n",
       "    </tr>\n",
       "  </tbody>\n",
       "</table>\n",
       "</div>"
      ],
      "text/plain": [
       "   stop_id                   stop_name stop_desc   stop_lat    stop_lon  \\\n",
       "0       98          2ND ST & MARKET ST            37.789255 -122.401225   \n",
       "1      100   STEUART ST & FRANCISCO ST            37.794463 -122.394607   \n",
       "2      202  COLUMBUS AVE & Pacific Ave            37.797055 -122.405669   \n",
       "\n",
       "  zone_id stop_url  \n",
       "0                   \n",
       "1                   \n",
       "2                   "
      ]
     },
     "execution_count": 10,
     "metadata": {},
     "output_type": "execute_result"
    }
   ],
   "source": [
    "sf_transit_stops = pd.read_csv('/Users/nichollejames/Desktop/DSI-SF-2-oboechick/projects/project-04/sf_transit_stops.csv')\n",
    "sf_transit_stops.head(3)"
   ]
  },
  {
   "cell_type": "code",
   "execution_count": 16,
   "metadata": {
    "collapsed": false
   },
   "outputs": [
    {
     "data": {
      "text/plain": [
       "stop_id      0\n",
       "stop_name    0\n",
       "stop_desc    0\n",
       "stop_lat     0\n",
       "stop_lon     0\n",
       "zone_id      0\n",
       "stop_url     0\n",
       "dtype: int64"
      ]
     },
     "execution_count": 16,
     "metadata": {},
     "output_type": "execute_result"
    }
   ],
   "source": [
    "sf_transit_stops.remove"
   ]
  },
  {
   "cell_type": "code",
   "execution_count": null,
   "metadata": {
    "collapsed": true
   },
   "outputs": [],
   "source": [
    "Did not have time to get past pulling the data out of the site and starting to clean it."
   ]
  },
  {
   "cell_type": "code",
   "execution_count": null,
   "metadata": {
    "collapsed": true
   },
   "outputs": [],
   "source": []
  },
  {
   "cell_type": "code",
   "execution_count": null,
   "metadata": {
    "collapsed": true
   },
   "outputs": [],
   "source": []
  },
  {
   "cell_type": "markdown",
   "metadata": {},
   "source": [
    "<img src=\"http://imgur.com/l5NasQj.png\" style=\"float: left; margin: 25px 15px 0px 0px; height: 25px\">\n",
    "\n",
    "### 2. Construct and evaluate a linear regression model on the data\n",
    "\n",
    "---\n",
    "\n",
    "1. State the variables that are predictors in your linear regression and the target variable.\n",
    "- Investigate and remove any outliers or other problems in your data. _This is a subjective process._\n",
    "- Construct a linear regression model.\n",
    "- Evaluate the model. How does the $R^2$ of the overall model compare to cross-validated $R^2$. What do the differences in $R^2$ mean?\n",
    "  - Use test / train split\n",
    "  - Use K-Folds\n",
    "  - Compare and explain your results with both\n",
    "- Visualize the evaluation metrics of your analysis in clear charts.\n",
    "- Summarize your results in the context of your hypothesis. Frame this as if you are presenting to non-technical readers.\n"
   ]
  },
  {
   "cell_type": "code",
   "execution_count": null,
   "metadata": {
    "collapsed": true
   },
   "outputs": [],
   "source": []
  },
  {
   "cell_type": "markdown",
   "metadata": {},
   "source": [
    "<img src=\"http://imgur.com/xDpSobf.png\" style=\"float: left; margin: 25px 15px 0px 0px; height: 25px\">\n",
    "\n",
    "### 2.2 Explain $R^2$ vs. mean squared error (MSE)\n",
    "\n",
    "---\n",
    "\n",
    "1. If you have negative $R^2$ values in cross-validation, what does this mean? \n",
    "2. Why can $R^2$ only be negative when the model is tested on new data?"
   ]
  },
  {
   "cell_type": "code",
   "execution_count": null,
   "metadata": {
    "collapsed": true
   },
   "outputs": [],
   "source": []
  },
  {
   "cell_type": "markdown",
   "metadata": {},
   "source": [
    "<img src=\"http://imgur.com/l5NasQj.png\" style=\"float: left; margin: 25px 15px 0px 0px; height: 25px\">\n",
    "\n",
    "### 3. Combine multiple sources of data and evaluate a model with regularized regression\n",
    "\n",
    "---\n",
    "\n",
    "**I recommend having many predictors to see benefits from regularization methods, but it's up to you.**\n",
    "\n",
    "1. Use _NEW_ sources of data for this section. It should not be related to your analysis/hypothesis from section 1.\n",
    "- Like in part 1, you should state a hypothesis and perform data cleaning and EDA _only_ on the relevant portions of your data. Don't waste time!\n",
    "- Construct and evaluate different models with cross-validated $R^2$. Compare LinearRegression, Lasso, Ridge, and ElasticNet. Find the optimal hyperparameters (alpha, l1_ratio) using gridsearch.\n",
    "- Report on which model is best, and why that might be the case (hint: does your data have multicollinearity? Irrelevant variables? Both?)\n",
    "- Plot visuals that compare the performance of the four models.\n"
   ]
  },
  {
   "cell_type": "code",
   "execution_count": null,
   "metadata": {
    "collapsed": true
   },
   "outputs": [],
   "source": []
  },
  {
   "cell_type": "markdown",
   "metadata": {},
   "source": [
    "<img src=\"http://imgur.com/l5NasQj.png\" style=\"float: left; margin: 25px 15px 0px 0px; height: 25px\">\n",
    "\n",
    "### 4. Conduct another, different analysis and report on it\n",
    "\n",
    "---\n",
    "\n",
    "1. Combining multiple sources of data (csv files) is required.\n",
    "- Perform EDA and cleaning on relevant data.\n",
    "- Construct and compare different regression models with cross-validation.\n",
    "- Plot descriptive visuals you think are useful for understanding the data.\n",
    "- Report on your findings.\n",
    "\n",
    "This section is just another analysis like the first sections, but is more open-ended in what models you decide to build and why. Don't feel obligated to try every out every regularized regression model (though it doesn't hurt). \n"
   ]
  },
  {
   "cell_type": "code",
   "execution_count": null,
   "metadata": {
    "collapsed": true
   },
   "outputs": [],
   "source": []
  },
  {
   "cell_type": "markdown",
   "metadata": {},
   "source": [
    "<img src=\"http://imgur.com/xDpSobf.png\" style=\"float: left; margin: 25px 15px 0px 0px; height: 25px\">\n",
    "\n",
    "### 4.2 Ploting GridSearch with Lasso, Ridge, or Elasticnet\n",
    "---\n",
    "1. Using the gridsearch results, plot your score in relation to your parameters.\n",
    "1. Plot the effect on your coefficients given alpha.\n",
    "1. Plot any other parameter change to visualize the impact of any other hyperparameter.\n",
    "\n",
    "It's helpful to understand the impact of parameters used in Gridsearch, and that you are comfortable working with the data that is generated for reporting to explore the results visually."
   ]
  },
  {
   "cell_type": "code",
   "execution_count": null,
   "metadata": {
    "collapsed": true
   },
   "outputs": [],
   "source": []
  },
  {
   "cell_type": "markdown",
   "metadata": {},
   "source": [
    "<img src=\"http://imgur.com/GCAf1UX.png\" style=\"float: left; margin: 25px 15px 0px 0px; height: 25px\">\n",
    "\n",
    "## 5. Bias-variance tradeoff\n",
    "\n",
    "---\n",
    "\n",
    "1. Select San Francisco data of your choice and construct a regularized regression model (this can be data from an earlier analysis if you like). Ideally the model should actually improve across regularization strengths...\n",
    "- Gridsearch the regularization parameters to find the optimal.\n",
    "- Plot the regularization parameter against the cross-validated $R^2$.\n",
    "- Explain how regularization and regularization strength is related to the bias-variance tradeoff.\n"
   ]
  },
  {
   "cell_type": "code",
   "execution_count": null,
   "metadata": {
    "collapsed": true
   },
   "outputs": [],
   "source": []
  },
  {
   "cell_type": "markdown",
   "metadata": {},
   "source": [
    "<img src=\"http://imgur.com/xDpSobf.png\" style=\"float: left; margin: 25px 15px 0px 0px; height: 25px\">\n",
    "\n",
    "### 5.1 Calculate the approximated $\\text{bias}^2$ and variance across regularization strengths.\n",
    "\n",
    "---\n",
    "\n",
    "You can obviously use my code from the bias-variance lab to do this. \n",
    "\n",
    "Plot the bias and variance change _with_ the cross-validated $R^2$. \n",
    "\n",
    "You'll need to scale these values somehow to put them on the same chart (I recommend (MinMaxScaler)[http://scikit-learn.org/stable/modules/generated/sklearn.preprocessing.MinMaxScaler.html] to put $\\text{bias}^2$ and variance on the same scale as cross-validated $R^2$."
   ]
  },
  {
   "cell_type": "code",
   "execution_count": null,
   "metadata": {
    "collapsed": true
   },
   "outputs": [],
   "source": []
  },
  {
   "cell_type": "markdown",
   "metadata": {},
   "source": [
    "<img src=\"http://imgur.com/HNPKfE8.png\" style=\"float: left; margin: 25px 15px 0px 0px; height: 25px\">\n",
    "\n",
    "## 6. Custom regularized regression penalties\n",
    "\n",
    "---\n",
    "\n",
    "The $\\lambda1$ and $\\lambda2$ norm regularization penalties (Lasso and Ridge) are the most commonly used regularization penalties. They have a solid foundation in statistics and evidence of effectiveness. However, these are not the only possible penalties for regression – sometimes new, customized penalties give additional performance and predictive power to models depending on the context.\n",
    "\n",
    "For example, when I worked in neuroscience [we created an effective penalized regression dubbed \"GraphNet\"](http://arxiv.org/abs/1110.4139) that combined the Lasso and Ridge penalties like in Elastic net with a third penalty that rewarded clustering of coefficients according to physical distance in FMRI brain activation data.\n",
    "\n",
    "**Devise of and implement a penalized regression for San Francisco data.** What is your rationale – why would this be useful? How does it perform compared to the standard Ridge, Lasso, and Elastic Net penalties?"
   ]
  },
  {
   "cell_type": "code",
   "execution_count": null,
   "metadata": {
    "collapsed": true
   },
   "outputs": [],
   "source": []
  }
 ],
 "metadata": {
  "anaconda-cloud": {},
  "kernelspec": {
   "display_name": "Python [dsi]",
   "language": "python",
   "name": "Python [dsi]"
  },
  "language_info": {
   "codemirror_mode": {
    "name": "ipython",
    "version": 2
   },
   "file_extension": ".py",
   "mimetype": "text/x-python",
   "name": "python",
   "nbconvert_exporter": "python",
   "pygments_lexer": "ipython2",
   "version": "2.7.12"
  }
 },
 "nbformat": 4,
 "nbformat_minor": 0
}
