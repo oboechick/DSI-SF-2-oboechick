{
 "cells": [
  {
   "cell_type": "markdown",
   "metadata": {},
   "source": [
    "## Worldwide Education Assesment Results\n",
    "\n",
    "Hypothesis: \n",
    "\n",
    "* Better attendance = better scores\n",
    "* More homework = Poorer scores\n",
    "* Higher education of teachers = better scores\n",
    "* salary of teachers = better scores\n",
    "            "
   ]
  },
  {
   "cell_type": "markdown",
   "metadata": {},
   "source": [
    "What do the filenames mean\n",
    "\n",
    "* C_comp_STU_MAR31 = Compressed Compendium for the students questionaire\n",
    "* C_comp_SCQ_MAR31 = Compressed Compendium for the school questionaire\n",
    "* C_comp_PAQ_MAR31 = Compressed Compendium for the parent questionaire\n",
    "* C_comp_COG_MAR31 = Compressed Compendium for the cognitive item responses\n",
    "* C_comp_ICT_MAR31 = Compressed Compendium for the Information and Communication Technologies\n",
    "* C_comp_EC_MAR31 = Compressed Compendium for ???UNKNOWN???\n",
    "\n",
    "* CPRO_logdata_released = Data for problem solving\n",
    "* CREA_logdata_released = Digital reading\n",
    "* CMAT_logdata_released = Computer-based mathematics\n",
    "\n",
    "* CBA = Computer based assessment\n"
   ]
  },
  {
   "cell_type": "markdown",
   "metadata": {},
   "source": [
    "What do important column headers mean?\n",
    "\n",
    "* StIDStd = Student ID\n",
    "* schoolid = School ID\n",
    "* event\n",
    "* time\n",
    "* event_number\n",
    "* event_value"
   ]
  }
 ],
 "metadata": {
  "anaconda-cloud": {},
  "kernelspec": {
   "display_name": "Python [dsi]",
   "language": "python",
   "name": "Python [dsi]"
  },
  "language_info": {
   "codemirror_mode": {
    "name": "ipython",
    "version": 2
   },
   "file_extension": ".py",
   "mimetype": "text/x-python",
   "name": "python",
   "nbconvert_exporter": "python",
   "pygments_lexer": "ipython2",
   "version": "2.7.12"
  }
 },
 "nbformat": 4,
 "nbformat_minor": 0
}
